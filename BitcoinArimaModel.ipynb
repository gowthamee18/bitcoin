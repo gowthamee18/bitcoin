{
  "nbformat": 4,
  "nbformat_minor": 0,
  "metadata": {
    "colab": {
      "provenance": [],
      "include_colab_link": true
    },
    "kernelspec": {
      "name": "python3",
      "display_name": "Python 3"
    },
    "language_info": {
      "name": "python"
    }
  },
  "cells": [
    {
      "cell_type": "markdown",
      "metadata": {
        "id": "view-in-github",
        "colab_type": "text"
      },
      "source": [
        "<a href=\"https://colab.research.google.com/github/gowthamee18/bitcoin/blob/main/BitcoinArimaModel.ipynb\" target=\"_parent\"><img src=\"https://colab.research.google.com/assets/colab-badge.svg\" alt=\"Open In Colab\"/></a>"
      ]
    },
    {
      "cell_type": "code",
      "execution_count": 1,
      "metadata": {
        "id": "acEV5eUeJuCk"
      },
      "outputs": [],
      "source": [
        "import pandas as kunfu\n",
        "import numpy as dragon\n",
        "import pylab as p\n",
        "import matplotlib.pyplot as plot\n",
        "from collections import Counter"
      ]
    },
    {
      "cell_type": "code",
      "source": [
        "import re"
      ],
      "metadata": {
        "id": "U7_Mc-vD0TWT"
      },
      "execution_count": 2,
      "outputs": []
    },
    {
      "cell_type": "code",
      "source": [
        "from google.colab import drive"
      ],
      "metadata": {
        "id": "Ei-P9BPvaUDD"
      },
      "execution_count": 3,
      "outputs": []
    },
    {
      "cell_type": "code",
      "source": [
        "from sklearn.metrics import mean_squared_error"
      ],
      "metadata": {
        "id": "KSJ5lrPHauYP"
      },
      "execution_count": 4,
      "outputs": []
    },
    {
      "cell_type": "code",
      "source": [
        "import pandas as pd\n",
        "df = pd.read_csv(\"/content/drive/MyDrive/data/BTC-USD (2).csv\")"
      ],
      "metadata": {
        "id": "2-ETJP1pcJwb",
        "outputId": "e36ebb5d-2228-4a38-9d4d-636613b08061",
        "colab": {
          "base_uri": "https://localhost:8080/",
          "height": 329
        }
      },
      "execution_count": 5,
      "outputs": [
        {
          "output_type": "error",
          "ename": "FileNotFoundError",
          "evalue": "[Errno 2] No such file or directory: '/content/drive/MyDrive/data/BTC-USD (2).csv'",
          "traceback": [
            "\u001b[0;31m---------------------------------------------------------------------------\u001b[0m",
            "\u001b[0;31mFileNotFoundError\u001b[0m                         Traceback (most recent call last)",
            "\u001b[0;32m<ipython-input-5-54f35fdbc19f>\u001b[0m in \u001b[0;36m<cell line: 2>\u001b[0;34m()\u001b[0m\n\u001b[1;32m      1\u001b[0m \u001b[0;32mimport\u001b[0m \u001b[0mpandas\u001b[0m \u001b[0;32mas\u001b[0m \u001b[0mpd\u001b[0m\u001b[0;34m\u001b[0m\u001b[0;34m\u001b[0m\u001b[0m\n\u001b[0;32m----> 2\u001b[0;31m \u001b[0mdf\u001b[0m \u001b[0;34m=\u001b[0m \u001b[0mpd\u001b[0m\u001b[0;34m.\u001b[0m\u001b[0mread_csv\u001b[0m\u001b[0;34m(\u001b[0m\u001b[0;34m\"/content/drive/MyDrive/data/BTC-USD (2).csv\"\u001b[0m\u001b[0;34m)\u001b[0m\u001b[0;34m\u001b[0m\u001b[0;34m\u001b[0m\u001b[0m\n\u001b[0m",
            "\u001b[0;32m/usr/local/lib/python3.10/dist-packages/pandas/io/parsers/readers.py\u001b[0m in \u001b[0;36mread_csv\u001b[0;34m(filepath_or_buffer, sep, delimiter, header, names, index_col, usecols, dtype, engine, converters, true_values, false_values, skipinitialspace, skiprows, skipfooter, nrows, na_values, keep_default_na, na_filter, verbose, skip_blank_lines, parse_dates, infer_datetime_format, keep_date_col, date_parser, date_format, dayfirst, cache_dates, iterator, chunksize, compression, thousands, decimal, lineterminator, quotechar, quoting, doublequote, escapechar, comment, encoding, encoding_errors, dialect, on_bad_lines, delim_whitespace, low_memory, memory_map, float_precision, storage_options, dtype_backend)\u001b[0m\n\u001b[1;32m   1024\u001b[0m     \u001b[0mkwds\u001b[0m\u001b[0;34m.\u001b[0m\u001b[0mupdate\u001b[0m\u001b[0;34m(\u001b[0m\u001b[0mkwds_defaults\u001b[0m\u001b[0;34m)\u001b[0m\u001b[0;34m\u001b[0m\u001b[0;34m\u001b[0m\u001b[0m\n\u001b[1;32m   1025\u001b[0m \u001b[0;34m\u001b[0m\u001b[0m\n\u001b[0;32m-> 1026\u001b[0;31m     \u001b[0;32mreturn\u001b[0m \u001b[0m_read\u001b[0m\u001b[0;34m(\u001b[0m\u001b[0mfilepath_or_buffer\u001b[0m\u001b[0;34m,\u001b[0m \u001b[0mkwds\u001b[0m\u001b[0;34m)\u001b[0m\u001b[0;34m\u001b[0m\u001b[0;34m\u001b[0m\u001b[0m\n\u001b[0m\u001b[1;32m   1027\u001b[0m \u001b[0;34m\u001b[0m\u001b[0m\n\u001b[1;32m   1028\u001b[0m \u001b[0;34m\u001b[0m\u001b[0m\n",
            "\u001b[0;32m/usr/local/lib/python3.10/dist-packages/pandas/io/parsers/readers.py\u001b[0m in \u001b[0;36m_read\u001b[0;34m(filepath_or_buffer, kwds)\u001b[0m\n\u001b[1;32m    618\u001b[0m \u001b[0;34m\u001b[0m\u001b[0m\n\u001b[1;32m    619\u001b[0m     \u001b[0;31m# Create the parser.\u001b[0m\u001b[0;34m\u001b[0m\u001b[0;34m\u001b[0m\u001b[0m\n\u001b[0;32m--> 620\u001b[0;31m     \u001b[0mparser\u001b[0m \u001b[0;34m=\u001b[0m \u001b[0mTextFileReader\u001b[0m\u001b[0;34m(\u001b[0m\u001b[0mfilepath_or_buffer\u001b[0m\u001b[0;34m,\u001b[0m \u001b[0;34m**\u001b[0m\u001b[0mkwds\u001b[0m\u001b[0;34m)\u001b[0m\u001b[0;34m\u001b[0m\u001b[0;34m\u001b[0m\u001b[0m\n\u001b[0m\u001b[1;32m    621\u001b[0m \u001b[0;34m\u001b[0m\u001b[0m\n\u001b[1;32m    622\u001b[0m     \u001b[0;32mif\u001b[0m \u001b[0mchunksize\u001b[0m \u001b[0;32mor\u001b[0m \u001b[0miterator\u001b[0m\u001b[0;34m:\u001b[0m\u001b[0;34m\u001b[0m\u001b[0;34m\u001b[0m\u001b[0m\n",
            "\u001b[0;32m/usr/local/lib/python3.10/dist-packages/pandas/io/parsers/readers.py\u001b[0m in \u001b[0;36m__init__\u001b[0;34m(self, f, engine, **kwds)\u001b[0m\n\u001b[1;32m   1618\u001b[0m \u001b[0;34m\u001b[0m\u001b[0m\n\u001b[1;32m   1619\u001b[0m         \u001b[0mself\u001b[0m\u001b[0;34m.\u001b[0m\u001b[0mhandles\u001b[0m\u001b[0;34m:\u001b[0m \u001b[0mIOHandles\u001b[0m \u001b[0;34m|\u001b[0m \u001b[0;32mNone\u001b[0m \u001b[0;34m=\u001b[0m \u001b[0;32mNone\u001b[0m\u001b[0;34m\u001b[0m\u001b[0;34m\u001b[0m\u001b[0m\n\u001b[0;32m-> 1620\u001b[0;31m         \u001b[0mself\u001b[0m\u001b[0;34m.\u001b[0m\u001b[0m_engine\u001b[0m \u001b[0;34m=\u001b[0m \u001b[0mself\u001b[0m\u001b[0;34m.\u001b[0m\u001b[0m_make_engine\u001b[0m\u001b[0;34m(\u001b[0m\u001b[0mf\u001b[0m\u001b[0;34m,\u001b[0m \u001b[0mself\u001b[0m\u001b[0;34m.\u001b[0m\u001b[0mengine\u001b[0m\u001b[0;34m)\u001b[0m\u001b[0;34m\u001b[0m\u001b[0;34m\u001b[0m\u001b[0m\n\u001b[0m\u001b[1;32m   1621\u001b[0m \u001b[0;34m\u001b[0m\u001b[0m\n\u001b[1;32m   1622\u001b[0m     \u001b[0;32mdef\u001b[0m \u001b[0mclose\u001b[0m\u001b[0;34m(\u001b[0m\u001b[0mself\u001b[0m\u001b[0;34m)\u001b[0m \u001b[0;34m->\u001b[0m \u001b[0;32mNone\u001b[0m\u001b[0;34m:\u001b[0m\u001b[0;34m\u001b[0m\u001b[0;34m\u001b[0m\u001b[0m\n",
            "\u001b[0;32m/usr/local/lib/python3.10/dist-packages/pandas/io/parsers/readers.py\u001b[0m in \u001b[0;36m_make_engine\u001b[0;34m(self, f, engine)\u001b[0m\n\u001b[1;32m   1878\u001b[0m                 \u001b[0;32mif\u001b[0m \u001b[0;34m\"b\"\u001b[0m \u001b[0;32mnot\u001b[0m \u001b[0;32min\u001b[0m \u001b[0mmode\u001b[0m\u001b[0;34m:\u001b[0m\u001b[0;34m\u001b[0m\u001b[0;34m\u001b[0m\u001b[0m\n\u001b[1;32m   1879\u001b[0m                     \u001b[0mmode\u001b[0m \u001b[0;34m+=\u001b[0m \u001b[0;34m\"b\"\u001b[0m\u001b[0;34m\u001b[0m\u001b[0;34m\u001b[0m\u001b[0m\n\u001b[0;32m-> 1880\u001b[0;31m             self.handles = get_handle(\n\u001b[0m\u001b[1;32m   1881\u001b[0m                 \u001b[0mf\u001b[0m\u001b[0;34m,\u001b[0m\u001b[0;34m\u001b[0m\u001b[0;34m\u001b[0m\u001b[0m\n\u001b[1;32m   1882\u001b[0m                 \u001b[0mmode\u001b[0m\u001b[0;34m,\u001b[0m\u001b[0;34m\u001b[0m\u001b[0;34m\u001b[0m\u001b[0m\n",
            "\u001b[0;32m/usr/local/lib/python3.10/dist-packages/pandas/io/common.py\u001b[0m in \u001b[0;36mget_handle\u001b[0;34m(path_or_buf, mode, encoding, compression, memory_map, is_text, errors, storage_options)\u001b[0m\n\u001b[1;32m    871\u001b[0m         \u001b[0;32mif\u001b[0m \u001b[0mioargs\u001b[0m\u001b[0;34m.\u001b[0m\u001b[0mencoding\u001b[0m \u001b[0;32mand\u001b[0m \u001b[0;34m\"b\"\u001b[0m \u001b[0;32mnot\u001b[0m \u001b[0;32min\u001b[0m \u001b[0mioargs\u001b[0m\u001b[0;34m.\u001b[0m\u001b[0mmode\u001b[0m\u001b[0;34m:\u001b[0m\u001b[0;34m\u001b[0m\u001b[0;34m\u001b[0m\u001b[0m\n\u001b[1;32m    872\u001b[0m             \u001b[0;31m# Encoding\u001b[0m\u001b[0;34m\u001b[0m\u001b[0;34m\u001b[0m\u001b[0m\n\u001b[0;32m--> 873\u001b[0;31m             handle = open(\n\u001b[0m\u001b[1;32m    874\u001b[0m                 \u001b[0mhandle\u001b[0m\u001b[0;34m,\u001b[0m\u001b[0;34m\u001b[0m\u001b[0;34m\u001b[0m\u001b[0m\n\u001b[1;32m    875\u001b[0m                 \u001b[0mioargs\u001b[0m\u001b[0;34m.\u001b[0m\u001b[0mmode\u001b[0m\u001b[0;34m,\u001b[0m\u001b[0;34m\u001b[0m\u001b[0;34m\u001b[0m\u001b[0m\n",
            "\u001b[0;31mFileNotFoundError\u001b[0m: [Errno 2] No such file or directory: '/content/drive/MyDrive/data/BTC-USD (2).csv'"
          ]
        }
      ]
    },
    {
      "cell_type": "code",
      "source": [
        "df.head()"
      ],
      "metadata": {
        "colab": {
          "base_uri": "https://localhost:8080/",
          "height": 206
        },
        "id": "stw6i9gQdmp4",
        "outputId": "a09a4eb5-a01e-46ac-99dc-9e752129a722"
      },
      "execution_count": null,
      "outputs": [
        {
          "output_type": "execute_result",
          "data": {
            "text/plain": [
              "         Date        Open        High         Low       Close   Adj Close  \\\n",
              "0  2014-09-23  402.092010  441.557007  396.196991  435.790985  435.790985   \n",
              "1  2014-09-24  435.751007  436.112000  421.131989  423.204987  423.204987   \n",
              "2  2014-09-25  423.156006  423.519989  409.467987  411.574005  411.574005   \n",
              "3  2014-09-26  411.428986  414.937988  400.009003  404.424988  404.424988   \n",
              "4  2014-09-27  403.556000  406.622986  397.372009  399.519989  399.519989   \n",
              "\n",
              "     Volume  \n",
              "0  45099500  \n",
              "1  30627700  \n",
              "2  26814400  \n",
              "3  21460800  \n",
              "4  15029300  "
            ],
            "text/html": [
              "\n",
              "  <div id=\"df-5b598538-02b4-4291-8ab3-7deb7f5de01a\">\n",
              "    <div class=\"colab-df-container\">\n",
              "      <div>\n",
              "<style scoped>\n",
              "    .dataframe tbody tr th:only-of-type {\n",
              "        vertical-align: middle;\n",
              "    }\n",
              "\n",
              "    .dataframe tbody tr th {\n",
              "        vertical-align: top;\n",
              "    }\n",
              "\n",
              "    .dataframe thead th {\n",
              "        text-align: right;\n",
              "    }\n",
              "</style>\n",
              "<table border=\"1\" class=\"dataframe\">\n",
              "  <thead>\n",
              "    <tr style=\"text-align: right;\">\n",
              "      <th></th>\n",
              "      <th>Date</th>\n",
              "      <th>Open</th>\n",
              "      <th>High</th>\n",
              "      <th>Low</th>\n",
              "      <th>Close</th>\n",
              "      <th>Adj Close</th>\n",
              "      <th>Volume</th>\n",
              "    </tr>\n",
              "  </thead>\n",
              "  <tbody>\n",
              "    <tr>\n",
              "      <th>0</th>\n",
              "      <td>2014-09-23</td>\n",
              "      <td>402.092010</td>\n",
              "      <td>441.557007</td>\n",
              "      <td>396.196991</td>\n",
              "      <td>435.790985</td>\n",
              "      <td>435.790985</td>\n",
              "      <td>45099500</td>\n",
              "    </tr>\n",
              "    <tr>\n",
              "      <th>1</th>\n",
              "      <td>2014-09-24</td>\n",
              "      <td>435.751007</td>\n",
              "      <td>436.112000</td>\n",
              "      <td>421.131989</td>\n",
              "      <td>423.204987</td>\n",
              "      <td>423.204987</td>\n",
              "      <td>30627700</td>\n",
              "    </tr>\n",
              "    <tr>\n",
              "      <th>2</th>\n",
              "      <td>2014-09-25</td>\n",
              "      <td>423.156006</td>\n",
              "      <td>423.519989</td>\n",
              "      <td>409.467987</td>\n",
              "      <td>411.574005</td>\n",
              "      <td>411.574005</td>\n",
              "      <td>26814400</td>\n",
              "    </tr>\n",
              "    <tr>\n",
              "      <th>3</th>\n",
              "      <td>2014-09-26</td>\n",
              "      <td>411.428986</td>\n",
              "      <td>414.937988</td>\n",
              "      <td>400.009003</td>\n",
              "      <td>404.424988</td>\n",
              "      <td>404.424988</td>\n",
              "      <td>21460800</td>\n",
              "    </tr>\n",
              "    <tr>\n",
              "      <th>4</th>\n",
              "      <td>2014-09-27</td>\n",
              "      <td>403.556000</td>\n",
              "      <td>406.622986</td>\n",
              "      <td>397.372009</td>\n",
              "      <td>399.519989</td>\n",
              "      <td>399.519989</td>\n",
              "      <td>15029300</td>\n",
              "    </tr>\n",
              "  </tbody>\n",
              "</table>\n",
              "</div>\n",
              "      <button class=\"colab-df-convert\" onclick=\"convertToInteractive('df-5b598538-02b4-4291-8ab3-7deb7f5de01a')\"\n",
              "              title=\"Convert this dataframe to an interactive table.\"\n",
              "              style=\"display:none;\">\n",
              "        \n",
              "  <svg xmlns=\"http://www.w3.org/2000/svg\" height=\"24px\"viewBox=\"0 0 24 24\"\n",
              "       width=\"24px\">\n",
              "    <path d=\"M0 0h24v24H0V0z\" fill=\"none\"/>\n",
              "    <path d=\"M18.56 5.44l.94 2.06.94-2.06 2.06-.94-2.06-.94-.94-2.06-.94 2.06-2.06.94zm-11 1L8.5 8.5l.94-2.06 2.06-.94-2.06-.94L8.5 2.5l-.94 2.06-2.06.94zm10 10l.94 2.06.94-2.06 2.06-.94-2.06-.94-.94-2.06-.94 2.06-2.06.94z\"/><path d=\"M17.41 7.96l-1.37-1.37c-.4-.4-.92-.59-1.43-.59-.52 0-1.04.2-1.43.59L10.3 9.45l-7.72 7.72c-.78.78-.78 2.05 0 2.83L4 21.41c.39.39.9.59 1.41.59.51 0 1.02-.2 1.41-.59l7.78-7.78 2.81-2.81c.8-.78.8-2.07 0-2.86zM5.41 20L4 18.59l7.72-7.72 1.47 1.35L5.41 20z\"/>\n",
              "  </svg>\n",
              "      </button>\n",
              "      \n",
              "  <style>\n",
              "    .colab-df-container {\n",
              "      display:flex;\n",
              "      flex-wrap:wrap;\n",
              "      gap: 12px;\n",
              "    }\n",
              "\n",
              "    .colab-df-convert {\n",
              "      background-color: #E8F0FE;\n",
              "      border: none;\n",
              "      border-radius: 50%;\n",
              "      cursor: pointer;\n",
              "      display: none;\n",
              "      fill: #1967D2;\n",
              "      height: 32px;\n",
              "      padding: 0 0 0 0;\n",
              "      width: 32px;\n",
              "    }\n",
              "\n",
              "    .colab-df-convert:hover {\n",
              "      background-color: #E2EBFA;\n",
              "      box-shadow: 0px 1px 2px rgba(60, 64, 67, 0.3), 0px 1px 3px 1px rgba(60, 64, 67, 0.15);\n",
              "      fill: #174EA6;\n",
              "    }\n",
              "\n",
              "    [theme=dark] .colab-df-convert {\n",
              "      background-color: #3B4455;\n",
              "      fill: #D2E3FC;\n",
              "    }\n",
              "\n",
              "    [theme=dark] .colab-df-convert:hover {\n",
              "      background-color: #434B5C;\n",
              "      box-shadow: 0px 1px 3px 1px rgba(0, 0, 0, 0.15);\n",
              "      filter: drop-shadow(0px 1px 2px rgba(0, 0, 0, 0.3));\n",
              "      fill: #FFFFFF;\n",
              "    }\n",
              "  </style>\n",
              "\n",
              "      <script>\n",
              "        const buttonEl =\n",
              "          document.querySelector('#df-5b598538-02b4-4291-8ab3-7deb7f5de01a button.colab-df-convert');\n",
              "        buttonEl.style.display =\n",
              "          google.colab.kernel.accessAllowed ? 'block' : 'none';\n",
              "\n",
              "        async function convertToInteractive(key) {\n",
              "          const element = document.querySelector('#df-5b598538-02b4-4291-8ab3-7deb7f5de01a');\n",
              "          const dataTable =\n",
              "            await google.colab.kernel.invokeFunction('convertToInteractive',\n",
              "                                                     [key], {});\n",
              "          if (!dataTable) return;\n",
              "\n",
              "          const docLinkHtml = 'Like what you see? Visit the ' +\n",
              "            '<a target=\"_blank\" href=https://colab.research.google.com/notebooks/data_table.ipynb>data table notebook</a>'\n",
              "            + ' to learn more about interactive tables.';\n",
              "          element.innerHTML = '';\n",
              "          dataTable['output_type'] = 'display_data';\n",
              "          await google.colab.output.renderOutput(dataTable, element);\n",
              "          const docLink = document.createElement('div');\n",
              "          docLink.innerHTML = docLinkHtml;\n",
              "          element.appendChild(docLink);\n",
              "        }\n",
              "      </script>\n",
              "    </div>\n",
              "  </div>\n",
              "  "
            ]
          },
          "metadata": {},
          "execution_count": 6
        }
      ]
    },
    {
      "cell_type": "code",
      "source": [
        "df.tail()"
      ],
      "metadata": {
        "colab": {
          "base_uri": "https://localhost:8080/",
          "height": 206
        },
        "id": "IC3SvMkXe4sy",
        "outputId": "b3c35c94-6b65-4e2a-f1ca-18126fb53229"
      },
      "execution_count": null,
      "outputs": [
        {
          "output_type": "execute_result",
          "data": {
            "text/plain": [
              "            Date          Open          High           Low         Close  \\\n",
              "3040  2023-01-19  20686.746094  21163.011719  20685.380859  21086.792969   \n",
              "3041  2023-01-20  21085.373047  22692.357422  20919.126953  22676.552734   \n",
              "3042  2023-01-21  22677.427734  23282.347656  22511.833984  22777.625000   \n",
              "3043  2023-01-22  22777.986328  23056.730469  22387.900391  22720.416016   \n",
              "3044  2023-01-23  22700.687500  22973.865234  22673.906250  22900.279297   \n",
              "\n",
              "         Adj Close       Volume  \n",
              "3040  21086.792969  21152848261  \n",
              "3041  22676.552734  28799154319  \n",
              "3042  22777.625000  32442278429  \n",
              "3043  22720.416016  24746386230  \n",
              "3044  22900.279297  27072333824  "
            ],
            "text/html": [
              "\n",
              "  <div id=\"df-3377a5b3-b059-47e5-8c9f-fae5d5293894\">\n",
              "    <div class=\"colab-df-container\">\n",
              "      <div>\n",
              "<style scoped>\n",
              "    .dataframe tbody tr th:only-of-type {\n",
              "        vertical-align: middle;\n",
              "    }\n",
              "\n",
              "    .dataframe tbody tr th {\n",
              "        vertical-align: top;\n",
              "    }\n",
              "\n",
              "    .dataframe thead th {\n",
              "        text-align: right;\n",
              "    }\n",
              "</style>\n",
              "<table border=\"1\" class=\"dataframe\">\n",
              "  <thead>\n",
              "    <tr style=\"text-align: right;\">\n",
              "      <th></th>\n",
              "      <th>Date</th>\n",
              "      <th>Open</th>\n",
              "      <th>High</th>\n",
              "      <th>Low</th>\n",
              "      <th>Close</th>\n",
              "      <th>Adj Close</th>\n",
              "      <th>Volume</th>\n",
              "    </tr>\n",
              "  </thead>\n",
              "  <tbody>\n",
              "    <tr>\n",
              "      <th>3040</th>\n",
              "      <td>2023-01-19</td>\n",
              "      <td>20686.746094</td>\n",
              "      <td>21163.011719</td>\n",
              "      <td>20685.380859</td>\n",
              "      <td>21086.792969</td>\n",
              "      <td>21086.792969</td>\n",
              "      <td>21152848261</td>\n",
              "    </tr>\n",
              "    <tr>\n",
              "      <th>3041</th>\n",
              "      <td>2023-01-20</td>\n",
              "      <td>21085.373047</td>\n",
              "      <td>22692.357422</td>\n",
              "      <td>20919.126953</td>\n",
              "      <td>22676.552734</td>\n",
              "      <td>22676.552734</td>\n",
              "      <td>28799154319</td>\n",
              "    </tr>\n",
              "    <tr>\n",
              "      <th>3042</th>\n",
              "      <td>2023-01-21</td>\n",
              "      <td>22677.427734</td>\n",
              "      <td>23282.347656</td>\n",
              "      <td>22511.833984</td>\n",
              "      <td>22777.625000</td>\n",
              "      <td>22777.625000</td>\n",
              "      <td>32442278429</td>\n",
              "    </tr>\n",
              "    <tr>\n",
              "      <th>3043</th>\n",
              "      <td>2023-01-22</td>\n",
              "      <td>22777.986328</td>\n",
              "      <td>23056.730469</td>\n",
              "      <td>22387.900391</td>\n",
              "      <td>22720.416016</td>\n",
              "      <td>22720.416016</td>\n",
              "      <td>24746386230</td>\n",
              "    </tr>\n",
              "    <tr>\n",
              "      <th>3044</th>\n",
              "      <td>2023-01-23</td>\n",
              "      <td>22700.687500</td>\n",
              "      <td>22973.865234</td>\n",
              "      <td>22673.906250</td>\n",
              "      <td>22900.279297</td>\n",
              "      <td>22900.279297</td>\n",
              "      <td>27072333824</td>\n",
              "    </tr>\n",
              "  </tbody>\n",
              "</table>\n",
              "</div>\n",
              "      <button class=\"colab-df-convert\" onclick=\"convertToInteractive('df-3377a5b3-b059-47e5-8c9f-fae5d5293894')\"\n",
              "              title=\"Convert this dataframe to an interactive table.\"\n",
              "              style=\"display:none;\">\n",
              "        \n",
              "  <svg xmlns=\"http://www.w3.org/2000/svg\" height=\"24px\"viewBox=\"0 0 24 24\"\n",
              "       width=\"24px\">\n",
              "    <path d=\"M0 0h24v24H0V0z\" fill=\"none\"/>\n",
              "    <path d=\"M18.56 5.44l.94 2.06.94-2.06 2.06-.94-2.06-.94-.94-2.06-.94 2.06-2.06.94zm-11 1L8.5 8.5l.94-2.06 2.06-.94-2.06-.94L8.5 2.5l-.94 2.06-2.06.94zm10 10l.94 2.06.94-2.06 2.06-.94-2.06-.94-.94-2.06-.94 2.06-2.06.94z\"/><path d=\"M17.41 7.96l-1.37-1.37c-.4-.4-.92-.59-1.43-.59-.52 0-1.04.2-1.43.59L10.3 9.45l-7.72 7.72c-.78.78-.78 2.05 0 2.83L4 21.41c.39.39.9.59 1.41.59.51 0 1.02-.2 1.41-.59l7.78-7.78 2.81-2.81c.8-.78.8-2.07 0-2.86zM5.41 20L4 18.59l7.72-7.72 1.47 1.35L5.41 20z\"/>\n",
              "  </svg>\n",
              "      </button>\n",
              "      \n",
              "  <style>\n",
              "    .colab-df-container {\n",
              "      display:flex;\n",
              "      flex-wrap:wrap;\n",
              "      gap: 12px;\n",
              "    }\n",
              "\n",
              "    .colab-df-convert {\n",
              "      background-color: #E8F0FE;\n",
              "      border: none;\n",
              "      border-radius: 50%;\n",
              "      cursor: pointer;\n",
              "      display: none;\n",
              "      fill: #1967D2;\n",
              "      height: 32px;\n",
              "      padding: 0 0 0 0;\n",
              "      width: 32px;\n",
              "    }\n",
              "\n",
              "    .colab-df-convert:hover {\n",
              "      background-color: #E2EBFA;\n",
              "      box-shadow: 0px 1px 2px rgba(60, 64, 67, 0.3), 0px 1px 3px 1px rgba(60, 64, 67, 0.15);\n",
              "      fill: #174EA6;\n",
              "    }\n",
              "\n",
              "    [theme=dark] .colab-df-convert {\n",
              "      background-color: #3B4455;\n",
              "      fill: #D2E3FC;\n",
              "    }\n",
              "\n",
              "    [theme=dark] .colab-df-convert:hover {\n",
              "      background-color: #434B5C;\n",
              "      box-shadow: 0px 1px 3px 1px rgba(0, 0, 0, 0.15);\n",
              "      filter: drop-shadow(0px 1px 2px rgba(0, 0, 0, 0.3));\n",
              "      fill: #FFFFFF;\n",
              "    }\n",
              "  </style>\n",
              "\n",
              "      <script>\n",
              "        const buttonEl =\n",
              "          document.querySelector('#df-3377a5b3-b059-47e5-8c9f-fae5d5293894 button.colab-df-convert');\n",
              "        buttonEl.style.display =\n",
              "          google.colab.kernel.accessAllowed ? 'block' : 'none';\n",
              "\n",
              "        async function convertToInteractive(key) {\n",
              "          const element = document.querySelector('#df-3377a5b3-b059-47e5-8c9f-fae5d5293894');\n",
              "          const dataTable =\n",
              "            await google.colab.kernel.invokeFunction('convertToInteractive',\n",
              "                                                     [key], {});\n",
              "          if (!dataTable) return;\n",
              "\n",
              "          const docLinkHtml = 'Like what you see? Visit the ' +\n",
              "            '<a target=\"_blank\" href=https://colab.research.google.com/notebooks/data_table.ipynb>data table notebook</a>'\n",
              "            + ' to learn more about interactive tables.';\n",
              "          element.innerHTML = '';\n",
              "          dataTable['output_type'] = 'display_data';\n",
              "          await google.colab.output.renderOutput(dataTable, element);\n",
              "          const docLink = document.createElement('div');\n",
              "          docLink.innerHTML = docLinkHtml;\n",
              "          element.appendChild(docLink);\n",
              "        }\n",
              "      </script>\n",
              "    </div>\n",
              "  </div>\n",
              "  "
            ]
          },
          "metadata": {},
          "execution_count": 7
        }
      ]
    },
    {
      "cell_type": "code",
      "source": [
        "df['Market Cap'] = df['Close']*df['Volume']"
      ],
      "metadata": {
        "id": "BTJ_F346ifcM"
      },
      "execution_count": null,
      "outputs": []
    },
    {
      "cell_type": "code",
      "source": [
        "df.tail()"
      ],
      "metadata": {
        "colab": {
          "base_uri": "https://localhost:8080/",
          "height": 206
        },
        "id": "Ya5LEsJllzIm",
        "outputId": "f3ad9e93-3920-457c-a7f8-c28e8b27abf7"
      },
      "execution_count": null,
      "outputs": [
        {
          "output_type": "execute_result",
          "data": {
            "text/plain": [
              "            Date          Open          High           Low         Close  \\\n",
              "3040  2023-01-19  20686.746094  21163.011719  20685.380859  21086.792969   \n",
              "3041  2023-01-20  21085.373047  22692.357422  20919.126953  22676.552734   \n",
              "3042  2023-01-21  22677.427734  23282.347656  22511.833984  22777.625000   \n",
              "3043  2023-01-22  22777.986328  23056.730469  22387.900391  22720.416016   \n",
              "3044  2023-01-23  22700.687500  22973.865234  22673.906250  22900.279297   \n",
              "\n",
              "         Adj Close       Volume    Market Cap  \n",
              "3040  21086.792969  21152848261  4.460457e+14  \n",
              "3041  22676.552734  28799154319  6.530655e+14  \n",
              "3042  22777.625000  32442278429  7.389581e+14  \n",
              "3043  22720.416016  24746386230  5.622482e+14  \n",
              "3044  22900.279297  27072333824  6.199640e+14  "
            ],
            "text/html": [
              "\n",
              "  <div id=\"df-878841e2-dd8f-40f2-bf28-a1f81de546dd\">\n",
              "    <div class=\"colab-df-container\">\n",
              "      <div>\n",
              "<style scoped>\n",
              "    .dataframe tbody tr th:only-of-type {\n",
              "        vertical-align: middle;\n",
              "    }\n",
              "\n",
              "    .dataframe tbody tr th {\n",
              "        vertical-align: top;\n",
              "    }\n",
              "\n",
              "    .dataframe thead th {\n",
              "        text-align: right;\n",
              "    }\n",
              "</style>\n",
              "<table border=\"1\" class=\"dataframe\">\n",
              "  <thead>\n",
              "    <tr style=\"text-align: right;\">\n",
              "      <th></th>\n",
              "      <th>Date</th>\n",
              "      <th>Open</th>\n",
              "      <th>High</th>\n",
              "      <th>Low</th>\n",
              "      <th>Close</th>\n",
              "      <th>Adj Close</th>\n",
              "      <th>Volume</th>\n",
              "      <th>Market Cap</th>\n",
              "    </tr>\n",
              "  </thead>\n",
              "  <tbody>\n",
              "    <tr>\n",
              "      <th>3040</th>\n",
              "      <td>2023-01-19</td>\n",
              "      <td>20686.746094</td>\n",
              "      <td>21163.011719</td>\n",
              "      <td>20685.380859</td>\n",
              "      <td>21086.792969</td>\n",
              "      <td>21086.792969</td>\n",
              "      <td>21152848261</td>\n",
              "      <td>4.460457e+14</td>\n",
              "    </tr>\n",
              "    <tr>\n",
              "      <th>3041</th>\n",
              "      <td>2023-01-20</td>\n",
              "      <td>21085.373047</td>\n",
              "      <td>22692.357422</td>\n",
              "      <td>20919.126953</td>\n",
              "      <td>22676.552734</td>\n",
              "      <td>22676.552734</td>\n",
              "      <td>28799154319</td>\n",
              "      <td>6.530655e+14</td>\n",
              "    </tr>\n",
              "    <tr>\n",
              "      <th>3042</th>\n",
              "      <td>2023-01-21</td>\n",
              "      <td>22677.427734</td>\n",
              "      <td>23282.347656</td>\n",
              "      <td>22511.833984</td>\n",
              "      <td>22777.625000</td>\n",
              "      <td>22777.625000</td>\n",
              "      <td>32442278429</td>\n",
              "      <td>7.389581e+14</td>\n",
              "    </tr>\n",
              "    <tr>\n",
              "      <th>3043</th>\n",
              "      <td>2023-01-22</td>\n",
              "      <td>22777.986328</td>\n",
              "      <td>23056.730469</td>\n",
              "      <td>22387.900391</td>\n",
              "      <td>22720.416016</td>\n",
              "      <td>22720.416016</td>\n",
              "      <td>24746386230</td>\n",
              "      <td>5.622482e+14</td>\n",
              "    </tr>\n",
              "    <tr>\n",
              "      <th>3044</th>\n",
              "      <td>2023-01-23</td>\n",
              "      <td>22700.687500</td>\n",
              "      <td>22973.865234</td>\n",
              "      <td>22673.906250</td>\n",
              "      <td>22900.279297</td>\n",
              "      <td>22900.279297</td>\n",
              "      <td>27072333824</td>\n",
              "      <td>6.199640e+14</td>\n",
              "    </tr>\n",
              "  </tbody>\n",
              "</table>\n",
              "</div>\n",
              "      <button class=\"colab-df-convert\" onclick=\"convertToInteractive('df-878841e2-dd8f-40f2-bf28-a1f81de546dd')\"\n",
              "              title=\"Convert this dataframe to an interactive table.\"\n",
              "              style=\"display:none;\">\n",
              "        \n",
              "  <svg xmlns=\"http://www.w3.org/2000/svg\" height=\"24px\"viewBox=\"0 0 24 24\"\n",
              "       width=\"24px\">\n",
              "    <path d=\"M0 0h24v24H0V0z\" fill=\"none\"/>\n",
              "    <path d=\"M18.56 5.44l.94 2.06.94-2.06 2.06-.94-2.06-.94-.94-2.06-.94 2.06-2.06.94zm-11 1L8.5 8.5l.94-2.06 2.06-.94-2.06-.94L8.5 2.5l-.94 2.06-2.06.94zm10 10l.94 2.06.94-2.06 2.06-.94-2.06-.94-.94-2.06-.94 2.06-2.06.94z\"/><path d=\"M17.41 7.96l-1.37-1.37c-.4-.4-.92-.59-1.43-.59-.52 0-1.04.2-1.43.59L10.3 9.45l-7.72 7.72c-.78.78-.78 2.05 0 2.83L4 21.41c.39.39.9.59 1.41.59.51 0 1.02-.2 1.41-.59l7.78-7.78 2.81-2.81c.8-.78.8-2.07 0-2.86zM5.41 20L4 18.59l7.72-7.72 1.47 1.35L5.41 20z\"/>\n",
              "  </svg>\n",
              "      </button>\n",
              "      \n",
              "  <style>\n",
              "    .colab-df-container {\n",
              "      display:flex;\n",
              "      flex-wrap:wrap;\n",
              "      gap: 12px;\n",
              "    }\n",
              "\n",
              "    .colab-df-convert {\n",
              "      background-color: #E8F0FE;\n",
              "      border: none;\n",
              "      border-radius: 50%;\n",
              "      cursor: pointer;\n",
              "      display: none;\n",
              "      fill: #1967D2;\n",
              "      height: 32px;\n",
              "      padding: 0 0 0 0;\n",
              "      width: 32px;\n",
              "    }\n",
              "\n",
              "    .colab-df-convert:hover {\n",
              "      background-color: #E2EBFA;\n",
              "      box-shadow: 0px 1px 2px rgba(60, 64, 67, 0.3), 0px 1px 3px 1px rgba(60, 64, 67, 0.15);\n",
              "      fill: #174EA6;\n",
              "    }\n",
              "\n",
              "    [theme=dark] .colab-df-convert {\n",
              "      background-color: #3B4455;\n",
              "      fill: #D2E3FC;\n",
              "    }\n",
              "\n",
              "    [theme=dark] .colab-df-convert:hover {\n",
              "      background-color: #434B5C;\n",
              "      box-shadow: 0px 1px 3px 1px rgba(0, 0, 0, 0.15);\n",
              "      filter: drop-shadow(0px 1px 2px rgba(0, 0, 0, 0.3));\n",
              "      fill: #FFFFFF;\n",
              "    }\n",
              "  </style>\n",
              "\n",
              "      <script>\n",
              "        const buttonEl =\n",
              "          document.querySelector('#df-878841e2-dd8f-40f2-bf28-a1f81de546dd button.colab-df-convert');\n",
              "        buttonEl.style.display =\n",
              "          google.colab.kernel.accessAllowed ? 'block' : 'none';\n",
              "\n",
              "        async function convertToInteractive(key) {\n",
              "          const element = document.querySelector('#df-878841e2-dd8f-40f2-bf28-a1f81de546dd');\n",
              "          const dataTable =\n",
              "            await google.colab.kernel.invokeFunction('convertToInteractive',\n",
              "                                                     [key], {});\n",
              "          if (!dataTable) return;\n",
              "\n",
              "          const docLinkHtml = 'Like what you see? Visit the ' +\n",
              "            '<a target=\"_blank\" href=https://colab.research.google.com/notebooks/data_table.ipynb>data table notebook</a>'\n",
              "            + ' to learn more about interactive tables.';\n",
              "          element.innerHTML = '';\n",
              "          dataTable['output_type'] = 'display_data';\n",
              "          await google.colab.output.renderOutput(dataTable, element);\n",
              "          const docLink = document.createElement('div');\n",
              "          docLink.innerHTML = docLinkHtml;\n",
              "          element.appendChild(docLink);\n",
              "        }\n",
              "      </script>\n",
              "    </div>\n",
              "  </div>\n",
              "  "
            ]
          },
          "metadata": {},
          "execution_count": 9
        }
      ]
    },
    {
      "cell_type": "code",
      "source": [
        "df.head()"
      ],
      "metadata": {
        "colab": {
          "base_uri": "https://localhost:8080/",
          "height": 206
        },
        "id": "VGGjj4Q0pOHg",
        "outputId": "bc3f9ed4-a0a9-4282-aae1-a3ab40c8d079"
      },
      "execution_count": null,
      "outputs": [
        {
          "output_type": "execute_result",
          "data": {
            "text/plain": [
              "         Date        Open        High         Low       Close   Adj Close  \\\n",
              "0  2014-09-23  402.092010  441.557007  396.196991  435.790985  435.790985   \n",
              "1  2014-09-24  435.751007  436.112000  421.131989  423.204987  423.204987   \n",
              "2  2014-09-25  423.156006  423.519989  409.467987  411.574005  411.574005   \n",
              "3  2014-09-26  411.428986  414.937988  400.009003  404.424988  404.424988   \n",
              "4  2014-09-27  403.556000  406.622986  397.372009  399.519989  399.519989   \n",
              "\n",
              "     Volume    Market Cap  \n",
              "0  45099500  1.965396e+10  \n",
              "1  30627700  1.296180e+10  \n",
              "2  26814400  1.103611e+10  \n",
              "3  21460800  8.679284e+09  \n",
              "4  15029300  6.004506e+09  "
            ],
            "text/html": [
              "\n",
              "  <div id=\"df-25c3fb12-f5a7-4a33-92f8-fa5a0f6485bb\">\n",
              "    <div class=\"colab-df-container\">\n",
              "      <div>\n",
              "<style scoped>\n",
              "    .dataframe tbody tr th:only-of-type {\n",
              "        vertical-align: middle;\n",
              "    }\n",
              "\n",
              "    .dataframe tbody tr th {\n",
              "        vertical-align: top;\n",
              "    }\n",
              "\n",
              "    .dataframe thead th {\n",
              "        text-align: right;\n",
              "    }\n",
              "</style>\n",
              "<table border=\"1\" class=\"dataframe\">\n",
              "  <thead>\n",
              "    <tr style=\"text-align: right;\">\n",
              "      <th></th>\n",
              "      <th>Date</th>\n",
              "      <th>Open</th>\n",
              "      <th>High</th>\n",
              "      <th>Low</th>\n",
              "      <th>Close</th>\n",
              "      <th>Adj Close</th>\n",
              "      <th>Volume</th>\n",
              "      <th>Market Cap</th>\n",
              "    </tr>\n",
              "  </thead>\n",
              "  <tbody>\n",
              "    <tr>\n",
              "      <th>0</th>\n",
              "      <td>2014-09-23</td>\n",
              "      <td>402.092010</td>\n",
              "      <td>441.557007</td>\n",
              "      <td>396.196991</td>\n",
              "      <td>435.790985</td>\n",
              "      <td>435.790985</td>\n",
              "      <td>45099500</td>\n",
              "      <td>1.965396e+10</td>\n",
              "    </tr>\n",
              "    <tr>\n",
              "      <th>1</th>\n",
              "      <td>2014-09-24</td>\n",
              "      <td>435.751007</td>\n",
              "      <td>436.112000</td>\n",
              "      <td>421.131989</td>\n",
              "      <td>423.204987</td>\n",
              "      <td>423.204987</td>\n",
              "      <td>30627700</td>\n",
              "      <td>1.296180e+10</td>\n",
              "    </tr>\n",
              "    <tr>\n",
              "      <th>2</th>\n",
              "      <td>2014-09-25</td>\n",
              "      <td>423.156006</td>\n",
              "      <td>423.519989</td>\n",
              "      <td>409.467987</td>\n",
              "      <td>411.574005</td>\n",
              "      <td>411.574005</td>\n",
              "      <td>26814400</td>\n",
              "      <td>1.103611e+10</td>\n",
              "    </tr>\n",
              "    <tr>\n",
              "      <th>3</th>\n",
              "      <td>2014-09-26</td>\n",
              "      <td>411.428986</td>\n",
              "      <td>414.937988</td>\n",
              "      <td>400.009003</td>\n",
              "      <td>404.424988</td>\n",
              "      <td>404.424988</td>\n",
              "      <td>21460800</td>\n",
              "      <td>8.679284e+09</td>\n",
              "    </tr>\n",
              "    <tr>\n",
              "      <th>4</th>\n",
              "      <td>2014-09-27</td>\n",
              "      <td>403.556000</td>\n",
              "      <td>406.622986</td>\n",
              "      <td>397.372009</td>\n",
              "      <td>399.519989</td>\n",
              "      <td>399.519989</td>\n",
              "      <td>15029300</td>\n",
              "      <td>6.004506e+09</td>\n",
              "    </tr>\n",
              "  </tbody>\n",
              "</table>\n",
              "</div>\n",
              "      <button class=\"colab-df-convert\" onclick=\"convertToInteractive('df-25c3fb12-f5a7-4a33-92f8-fa5a0f6485bb')\"\n",
              "              title=\"Convert this dataframe to an interactive table.\"\n",
              "              style=\"display:none;\">\n",
              "        \n",
              "  <svg xmlns=\"http://www.w3.org/2000/svg\" height=\"24px\"viewBox=\"0 0 24 24\"\n",
              "       width=\"24px\">\n",
              "    <path d=\"M0 0h24v24H0V0z\" fill=\"none\"/>\n",
              "    <path d=\"M18.56 5.44l.94 2.06.94-2.06 2.06-.94-2.06-.94-.94-2.06-.94 2.06-2.06.94zm-11 1L8.5 8.5l.94-2.06 2.06-.94-2.06-.94L8.5 2.5l-.94 2.06-2.06.94zm10 10l.94 2.06.94-2.06 2.06-.94-2.06-.94-.94-2.06-.94 2.06-2.06.94z\"/><path d=\"M17.41 7.96l-1.37-1.37c-.4-.4-.92-.59-1.43-.59-.52 0-1.04.2-1.43.59L10.3 9.45l-7.72 7.72c-.78.78-.78 2.05 0 2.83L4 21.41c.39.39.9.59 1.41.59.51 0 1.02-.2 1.41-.59l7.78-7.78 2.81-2.81c.8-.78.8-2.07 0-2.86zM5.41 20L4 18.59l7.72-7.72 1.47 1.35L5.41 20z\"/>\n",
              "  </svg>\n",
              "      </button>\n",
              "      \n",
              "  <style>\n",
              "    .colab-df-container {\n",
              "      display:flex;\n",
              "      flex-wrap:wrap;\n",
              "      gap: 12px;\n",
              "    }\n",
              "\n",
              "    .colab-df-convert {\n",
              "      background-color: #E8F0FE;\n",
              "      border: none;\n",
              "      border-radius: 50%;\n",
              "      cursor: pointer;\n",
              "      display: none;\n",
              "      fill: #1967D2;\n",
              "      height: 32px;\n",
              "      padding: 0 0 0 0;\n",
              "      width: 32px;\n",
              "    }\n",
              "\n",
              "    .colab-df-convert:hover {\n",
              "      background-color: #E2EBFA;\n",
              "      box-shadow: 0px 1px 2px rgba(60, 64, 67, 0.3), 0px 1px 3px 1px rgba(60, 64, 67, 0.15);\n",
              "      fill: #174EA6;\n",
              "    }\n",
              "\n",
              "    [theme=dark] .colab-df-convert {\n",
              "      background-color: #3B4455;\n",
              "      fill: #D2E3FC;\n",
              "    }\n",
              "\n",
              "    [theme=dark] .colab-df-convert:hover {\n",
              "      background-color: #434B5C;\n",
              "      box-shadow: 0px 1px 3px 1px rgba(0, 0, 0, 0.15);\n",
              "      filter: drop-shadow(0px 1px 2px rgba(0, 0, 0, 0.3));\n",
              "      fill: #FFFFFF;\n",
              "    }\n",
              "  </style>\n",
              "\n",
              "      <script>\n",
              "        const buttonEl =\n",
              "          document.querySelector('#df-25c3fb12-f5a7-4a33-92f8-fa5a0f6485bb button.colab-df-convert');\n",
              "        buttonEl.style.display =\n",
              "          google.colab.kernel.accessAllowed ? 'block' : 'none';\n",
              "\n",
              "        async function convertToInteractive(key) {\n",
              "          const element = document.querySelector('#df-25c3fb12-f5a7-4a33-92f8-fa5a0f6485bb');\n",
              "          const dataTable =\n",
              "            await google.colab.kernel.invokeFunction('convertToInteractive',\n",
              "                                                     [key], {});\n",
              "          if (!dataTable) return;\n",
              "\n",
              "          const docLinkHtml = 'Like what you see? Visit the ' +\n",
              "            '<a target=\"_blank\" href=https://colab.research.google.com/notebooks/data_table.ipynb>data table notebook</a>'\n",
              "            + ' to learn more about interactive tables.';\n",
              "          element.innerHTML = '';\n",
              "          dataTable['output_type'] = 'display_data';\n",
              "          await google.colab.output.renderOutput(dataTable, element);\n",
              "          const docLink = document.createElement('div');\n",
              "          docLink.innerHTML = docLinkHtml;\n",
              "          element.appendChild(docLink);\n",
              "        }\n",
              "      </script>\n",
              "    </div>\n",
              "  </div>\n",
              "  "
            ]
          },
          "metadata": {},
          "execution_count": 10
        }
      ]
    },
    {
      "cell_type": "code",
      "source": [
        "df = df.drop(['Adj Close'], axis = 1)"
      ],
      "metadata": {
        "id": "A7gf9ykfpSTz"
      },
      "execution_count": null,
      "outputs": []
    },
    {
      "cell_type": "code",
      "source": [
        "df.tail()"
      ],
      "metadata": {
        "colab": {
          "base_uri": "https://localhost:8080/",
          "height": 206
        },
        "id": "F3GJM4m1pXdM",
        "outputId": "ecbc5a1a-12a9-4822-eaec-f62081663cce"
      },
      "execution_count": null,
      "outputs": [
        {
          "output_type": "execute_result",
          "data": {
            "text/plain": [
              "            Date          Open          High           Low         Close  \\\n",
              "3040  2023-01-19  20686.746094  21163.011719  20685.380859  21086.792969   \n",
              "3041  2023-01-20  21085.373047  22692.357422  20919.126953  22676.552734   \n",
              "3042  2023-01-21  22677.427734  23282.347656  22511.833984  22777.625000   \n",
              "3043  2023-01-22  22777.986328  23056.730469  22387.900391  22720.416016   \n",
              "3044  2023-01-23  22700.687500  22973.865234  22673.906250  22900.279297   \n",
              "\n",
              "           Volume    Market Cap  \n",
              "3040  21152848261  4.460457e+14  \n",
              "3041  28799154319  6.530655e+14  \n",
              "3042  32442278429  7.389581e+14  \n",
              "3043  24746386230  5.622482e+14  \n",
              "3044  27072333824  6.199640e+14  "
            ],
            "text/html": [
              "\n",
              "  <div id=\"df-48a1d455-4588-445c-8a66-74dac737ffb3\">\n",
              "    <div class=\"colab-df-container\">\n",
              "      <div>\n",
              "<style scoped>\n",
              "    .dataframe tbody tr th:only-of-type {\n",
              "        vertical-align: middle;\n",
              "    }\n",
              "\n",
              "    .dataframe tbody tr th {\n",
              "        vertical-align: top;\n",
              "    }\n",
              "\n",
              "    .dataframe thead th {\n",
              "        text-align: right;\n",
              "    }\n",
              "</style>\n",
              "<table border=\"1\" class=\"dataframe\">\n",
              "  <thead>\n",
              "    <tr style=\"text-align: right;\">\n",
              "      <th></th>\n",
              "      <th>Date</th>\n",
              "      <th>Open</th>\n",
              "      <th>High</th>\n",
              "      <th>Low</th>\n",
              "      <th>Close</th>\n",
              "      <th>Volume</th>\n",
              "      <th>Market Cap</th>\n",
              "    </tr>\n",
              "  </thead>\n",
              "  <tbody>\n",
              "    <tr>\n",
              "      <th>3040</th>\n",
              "      <td>2023-01-19</td>\n",
              "      <td>20686.746094</td>\n",
              "      <td>21163.011719</td>\n",
              "      <td>20685.380859</td>\n",
              "      <td>21086.792969</td>\n",
              "      <td>21152848261</td>\n",
              "      <td>4.460457e+14</td>\n",
              "    </tr>\n",
              "    <tr>\n",
              "      <th>3041</th>\n",
              "      <td>2023-01-20</td>\n",
              "      <td>21085.373047</td>\n",
              "      <td>22692.357422</td>\n",
              "      <td>20919.126953</td>\n",
              "      <td>22676.552734</td>\n",
              "      <td>28799154319</td>\n",
              "      <td>6.530655e+14</td>\n",
              "    </tr>\n",
              "    <tr>\n",
              "      <th>3042</th>\n",
              "      <td>2023-01-21</td>\n",
              "      <td>22677.427734</td>\n",
              "      <td>23282.347656</td>\n",
              "      <td>22511.833984</td>\n",
              "      <td>22777.625000</td>\n",
              "      <td>32442278429</td>\n",
              "      <td>7.389581e+14</td>\n",
              "    </tr>\n",
              "    <tr>\n",
              "      <th>3043</th>\n",
              "      <td>2023-01-22</td>\n",
              "      <td>22777.986328</td>\n",
              "      <td>23056.730469</td>\n",
              "      <td>22387.900391</td>\n",
              "      <td>22720.416016</td>\n",
              "      <td>24746386230</td>\n",
              "      <td>5.622482e+14</td>\n",
              "    </tr>\n",
              "    <tr>\n",
              "      <th>3044</th>\n",
              "      <td>2023-01-23</td>\n",
              "      <td>22700.687500</td>\n",
              "      <td>22973.865234</td>\n",
              "      <td>22673.906250</td>\n",
              "      <td>22900.279297</td>\n",
              "      <td>27072333824</td>\n",
              "      <td>6.199640e+14</td>\n",
              "    </tr>\n",
              "  </tbody>\n",
              "</table>\n",
              "</div>\n",
              "      <button class=\"colab-df-convert\" onclick=\"convertToInteractive('df-48a1d455-4588-445c-8a66-74dac737ffb3')\"\n",
              "              title=\"Convert this dataframe to an interactive table.\"\n",
              "              style=\"display:none;\">\n",
              "        \n",
              "  <svg xmlns=\"http://www.w3.org/2000/svg\" height=\"24px\"viewBox=\"0 0 24 24\"\n",
              "       width=\"24px\">\n",
              "    <path d=\"M0 0h24v24H0V0z\" fill=\"none\"/>\n",
              "    <path d=\"M18.56 5.44l.94 2.06.94-2.06 2.06-.94-2.06-.94-.94-2.06-.94 2.06-2.06.94zm-11 1L8.5 8.5l.94-2.06 2.06-.94-2.06-.94L8.5 2.5l-.94 2.06-2.06.94zm10 10l.94 2.06.94-2.06 2.06-.94-2.06-.94-.94-2.06-.94 2.06-2.06.94z\"/><path d=\"M17.41 7.96l-1.37-1.37c-.4-.4-.92-.59-1.43-.59-.52 0-1.04.2-1.43.59L10.3 9.45l-7.72 7.72c-.78.78-.78 2.05 0 2.83L4 21.41c.39.39.9.59 1.41.59.51 0 1.02-.2 1.41-.59l7.78-7.78 2.81-2.81c.8-.78.8-2.07 0-2.86zM5.41 20L4 18.59l7.72-7.72 1.47 1.35L5.41 20z\"/>\n",
              "  </svg>\n",
              "      </button>\n",
              "      \n",
              "  <style>\n",
              "    .colab-df-container {\n",
              "      display:flex;\n",
              "      flex-wrap:wrap;\n",
              "      gap: 12px;\n",
              "    }\n",
              "\n",
              "    .colab-df-convert {\n",
              "      background-color: #E8F0FE;\n",
              "      border: none;\n",
              "      border-radius: 50%;\n",
              "      cursor: pointer;\n",
              "      display: none;\n",
              "      fill: #1967D2;\n",
              "      height: 32px;\n",
              "      padding: 0 0 0 0;\n",
              "      width: 32px;\n",
              "    }\n",
              "\n",
              "    .colab-df-convert:hover {\n",
              "      background-color: #E2EBFA;\n",
              "      box-shadow: 0px 1px 2px rgba(60, 64, 67, 0.3), 0px 1px 3px 1px rgba(60, 64, 67, 0.15);\n",
              "      fill: #174EA6;\n",
              "    }\n",
              "\n",
              "    [theme=dark] .colab-df-convert {\n",
              "      background-color: #3B4455;\n",
              "      fill: #D2E3FC;\n",
              "    }\n",
              "\n",
              "    [theme=dark] .colab-df-convert:hover {\n",
              "      background-color: #434B5C;\n",
              "      box-shadow: 0px 1px 3px 1px rgba(0, 0, 0, 0.15);\n",
              "      filter: drop-shadow(0px 1px 2px rgba(0, 0, 0, 0.3));\n",
              "      fill: #FFFFFF;\n",
              "    }\n",
              "  </style>\n",
              "\n",
              "      <script>\n",
              "        const buttonEl =\n",
              "          document.querySelector('#df-48a1d455-4588-445c-8a66-74dac737ffb3 button.colab-df-convert');\n",
              "        buttonEl.style.display =\n",
              "          google.colab.kernel.accessAllowed ? 'block' : 'none';\n",
              "\n",
              "        async function convertToInteractive(key) {\n",
              "          const element = document.querySelector('#df-48a1d455-4588-445c-8a66-74dac737ffb3');\n",
              "          const dataTable =\n",
              "            await google.colab.kernel.invokeFunction('convertToInteractive',\n",
              "                                                     [key], {});\n",
              "          if (!dataTable) return;\n",
              "\n",
              "          const docLinkHtml = 'Like what you see? Visit the ' +\n",
              "            '<a target=\"_blank\" href=https://colab.research.google.com/notebooks/data_table.ipynb>data table notebook</a>'\n",
              "            + ' to learn more about interactive tables.';\n",
              "          element.innerHTML = '';\n",
              "          dataTable['output_type'] = 'display_data';\n",
              "          await google.colab.output.renderOutput(dataTable, element);\n",
              "          const docLink = document.createElement('div');\n",
              "          docLink.innerHTML = docLinkHtml;\n",
              "          element.appendChild(docLink);\n",
              "        }\n",
              "      </script>\n",
              "    </div>\n",
              "  </div>\n",
              "  "
            ]
          },
          "metadata": {},
          "execution_count": 12
        }
      ]
    },
    {
      "cell_type": "code",
      "source": [
        "data = df['Close']\n",
        "Date1 = df['Date']\n",
        "train1 = df[['Date','Close']]\n",
        "# Setting the Date as Index\n",
        "train2 = train1.set_index('Date')\n",
        "train2.sort_index(inplace=True)\n",
        "print (type(train2))\n",
        "print (train2.head())\n",
        "plot.plot(train2)\n",
        "plot.xlabel('Date', fontsize=12)\n",
        "plot.ylabel('Price in USD', fontsize=12)\n",
        "plot.title(\"Closing price distribution of bitcoin\", fontsize=15)\n",
        "plot.show()"
      ],
      "metadata": {
        "colab": {
          "base_uri": "https://localhost:8080/",
          "height": 439
        },
        "id": "9I1VsPixqp9h",
        "outputId": "544731a3-8d25-4d4e-9284-07915e8fe8ee"
      },
      "execution_count": null,
      "outputs": [
        {
          "output_type": "stream",
          "name": "stdout",
          "text": [
            "<class 'pandas.core.frame.DataFrame'>\n",
            "                 Close\n",
            "Date                  \n",
            "2014-09-23  435.790985\n",
            "2014-09-24  423.204987\n",
            "2014-09-25  411.574005\n",
            "2014-09-26  404.424988\n",
            "2014-09-27  399.519989\n"
          ]
        },
        {
          "output_type": "display_data",
          "data": {
            "text/plain": [
              "<Figure size 432x288 with 1 Axes>"
            ],
            "image/png": "[encoded data removed]"
          },
          "metadata": {
            "needs_background": "light"
          }
        }
      ]
    },
    {
      "cell_type": "code",
      "source": [
        "from statsmodels.tsa.stattools import adfuller"
      ],
      "metadata": {
        "id": "kt1315CcB1da"
      },
      "execution_count": null,
      "outputs": []
    },
    {
      "cell_type": "code",
      "source": [
        "def test_stationarity(x):\n",
        "\n",
        "\n",
        "    #Determing rolling statistics\n",
        "    rolmean = x.rolling(window=22,center=False).mean()\n",
        "\n",
        "    rolstd = x.rolling(window=12,center=False).std()\n",
        "\n",
        "    #Plot rolling statistics:\n",
        "    orig = plot.plot(x, color='blue',label='Original')\n",
        "    mean = plot.plot(rolmean, color='red', label='Rolling Mean')\n",
        "    std = plot.plot(rolstd, color='black', label = 'Rolling Std')\n",
        "    plot.legend(loc='best')\n",
        "    plot.title('Rolling Mean & Standard Deviation')\n",
        "    plot.show(block=False)\n",
        "\n",
        "    #Perform Dickey Fuller test\n",
        "    result=adfuller(x)\n",
        "    print('ADF Stastistic: %f'%result[0])\n",
        "    print('p-value: %f'%result[1])\n",
        "    pvalue=result[1]\n",
        "    for key,value in result[4].items():\n",
        "         if result[0]>value:\n",
        "            print(\"The graph is non stationery\")\n",
        "            break\n",
        "         else:\n",
        "            print(\"The graph is stationery\")\n",
        "            break;\n",
        "    print('Critical values:')\n",
        "    for key,value in result[4].items():\n",
        "        print('\\t%s: %.3f ' % (key, value))\n",
        "\n",
        "ts = train2['Close']\n",
        "test_stationarity(ts)"
      ],
      "metadata": {
        "colab": {
          "base_uri": "https://localhost:8080/",
          "height": 402
        },
        "id": "IOpb7-TpB8gC",
        "outputId": "25c53a16-4b92-436e-f2e4-557162f50679"
      },
      "execution_count": null,
      "outputs": [
        {
          "output_type": "display_data",
          "data": {
            "text/plain": [
              "<Figure size 432x288 with 1 Axes>"
            ],
            "image/png": "[encoded data removed]"
          },
          "metadata": {
            "needs_background": "light"
          }
        },
        {
          "output_type": "stream",
          "name": "stdout",
          "text": [
            "ADF Stastistic: -1.593672\n",
            "p-value: 0.486772\n",
            "The graph is non stationery\n",
            "Critical values:\n",
            "\t1%: -3.433 \n",
            "\t5%: -2.862 \n",
            "\t10%: -2.567 \n"
          ]
        }
      ]
    },
    {
      "cell_type": "code",
      "source": [
        "ts_log = dragon.log(ts)\n",
        "plot.plot(ts_log,color=\"green\")\n",
        "plot.show()\n",
        "\n",
        "test_stationarity(ts_log)"
      ],
      "metadata": {
        "colab": {
          "base_uri": "https://localhost:8080/",
          "height": 650
        },
        "id": "Kp7AcNsCCNPg",
        "outputId": "60fa7dea-d13f-4035-e8ef-6dbcfabeb7bb"
      },
      "execution_count": null,
      "outputs": [
        {
          "output_type": "display_data",
          "data": {
            "text/plain": [
              "<Figure size 432x288 with 1 Axes>"
            ],
            "image/png": "[encoded data removed]"
          },
          "metadata": {
            "needs_background": "light"
          }
        },
        {
          "output_type": "display_data",
          "data": {
            "text/plain": [
              "<Figure size 432x288 with 1 Axes>"
            ],
            "image/png": "[encoded data removed]"
          },
          "metadata": {
            "needs_background": "light"
          }
        },
        {
          "output_type": "stream",
          "name": "stdout",
          "text": [
            "ADF Stastistic: -0.959877\n",
            "p-value: 0.767616\n",
            "The graph is non stationery\n",
            "Critical values:\n",
            "\t1%: -3.433 \n",
            "\t5%: -2.862 \n",
            "\t10%: -2.567 \n"
          ]
        }
      ]
    },
    {
      "cell_type": "code",
      "source": [
        "ts_log_diff = ts_log - ts_log.shift()\n",
        "plot.plot(ts_log_diff)\n",
        "plot.show()"
      ],
      "metadata": {
        "colab": {
          "base_uri": "https://localhost:8080/",
          "height": 265
        },
        "id": "2OVKSLtzDEBl",
        "outputId": "340cbde8-0860-4852-9bb2-2d5dd5aab3c5"
      },
      "execution_count": null,
      "outputs": [
        {
          "output_type": "display_data",
          "data": {
            "text/plain": [
              "<Figure size 432x288 with 1 Axes>"
            ],
            "image/png": "[encoded data removed]"
          },
          "metadata": {
            "needs_background": "light"
          }
        }
      ]
    },
    {
      "cell_type": "code",
      "source": [
        "ts_log_diff.dropna(inplace=True)\n",
        "test_stationarity(ts_log_diff)"
      ],
      "metadata": {
        "colab": {
          "base_uri": "https://localhost:8080/",
          "height": 402
        },
        "id": "AK_TH7_ZDP-X",
        "outputId": "1b02b3b7-2b5e-430b-8ed2-eb772d77ca8d"
      },
      "execution_count": null,
      "outputs": [
        {
          "output_type": "display_data",
          "data": {
            "text/plain": [
              "<Figure size 432x288 with 1 Axes>"
            ],
            "image/png": "[encoded data removed]"
          },
          "metadata": {
            "needs_background": "light"
          }
        },
        {
          "output_type": "stream",
          "name": "stdout",
          "text": [
            "ADF Stastistic: -56.149529\n",
            "p-value: 0.000000\n",
            "The graph is stationery\n",
            "Critical values:\n",
            "\t1%: -3.433 \n",
            "\t5%: -2.862 \n",
            "\t10%: -2.567 \n"
          ]
        }
      ]
    },
    {
      "cell_type": "code",
      "source": [
        "from statsmodels.tsa.arima_model import ARIMA"
      ],
      "metadata": {
        "id": "sup_nh_nDhsY"
      },
      "execution_count": null,
      "outputs": []
    },
    {
      "cell_type": "code",
      "source": [
        "model = ARIMA(ts_log, order=(1,1,0))\n",
        "results_ARIMA = model.fit(disp=-1)\n",
        "plot.plot(ts_log_diff)\n",
        "plot.plot(results_ARIMA.fittedvalues, color='red')\n",
        "plot.title('RSS: %.7f'% sum((results_ARIMA.fittedvalues-ts_log_diff)**2))\n",
        "plot.show()"
      ],
      "metadata": {
        "colab": {
          "base_uri": "https://localhost:8080/",
          "height": 680
        },
        "id": "KE4qvR_iDq67",
        "outputId": "3617086c-ad68-49e2-e689-ee3fa910361b"
      },
      "execution_count": null,
      "outputs": [
        {
          "output_type": "stream",
          "name": "stderr",
          "text": [
            "/usr/local/lib/python3.8/dist-packages/statsmodels/tsa/arima_model.py:472: FutureWarning: \n",
            "statsmodels.tsa.arima_model.ARMA and statsmodels.tsa.arima_model.ARIMA have\n",
            "been deprecated in favor of statsmodels.tsa.arima.model.ARIMA (note the .\n",
            "between arima and model) and\n",
            "statsmodels.tsa.SARIMAX. These will be removed after the 0.12 release.\n",
            "\n",
            "statsmodels.tsa.arima.model.ARIMA makes use of the statespace framework and\n",
            "is both well tested and maintained.\n",
            "\n",
            "To silence this warning and continue using ARMA and ARIMA until they are\n",
            "removed, use:\n",
            "\n",
            "import warnings\n",
            "warnings.filterwarnings('ignore', 'statsmodels.tsa.arima_model.ARMA',\n",
            "                        FutureWarning)\n",
            "warnings.filterwarnings('ignore', 'statsmodels.tsa.arima_model.ARIMA',\n",
            "                        FutureWarning)\n",
            "\n",
            "  warnings.warn(ARIMA_DEPRECATION_WARN, FutureWarning)\n",
            "/usr/local/lib/python3.8/dist-packages/statsmodels/tsa/base/tsa_model.py:524: ValueWarning: No frequency information was provided, so inferred frequency D will be used.\n",
            "  warnings.warn('No frequency information was'\n",
            "/usr/local/lib/python3.8/dist-packages/statsmodels/tsa/base/tsa_model.py:524: ValueWarning: No frequency information was provided, so inferred frequency D will be used.\n",
            "  warnings.warn('No frequency information was'\n"
          ]
        },
        {
          "output_type": "display_data",
          "data": {
            "text/plain": [
              "<Figure size 432x288 with 1 Axes>"
            ],
            "image/png": "[encoded data removed]"
          },
          "metadata": {
            "needs_background": "light"
          }
        }
      ]
    },
    {
      "cell_type": "code",
      "source": [
        "model = ARIMA(ts_log, order=(0,1,1))\n",
        "results_MA = model.fit(disp=-1)\n",
        "plot.plot(ts_log_diff)\n",
        "plot.plot(results_MA.fittedvalues, color='red')\n",
        "plot.title('RSS: %.7f'% sum((results_MA.fittedvalues-ts_log_diff)**2))\n",
        "plot.show()"
      ],
      "metadata": {
        "colab": {
          "base_uri": "https://localhost:8080/",
          "height": 350
        },
        "id": "SY60P_WCD0ux",
        "outputId": "ff574d65-a859-47b5-8989-b852caa300b6"
      },
      "execution_count": null,
      "outputs": [
        {
          "output_type": "stream",
          "name": "stderr",
          "text": [
            "/usr/local/lib/python3.8/dist-packages/statsmodels/tsa/base/tsa_model.py:524: ValueWarning: No frequency information was provided, so inferred frequency D will be used.\n",
            "  warnings.warn('No frequency information was'\n",
            "/usr/local/lib/python3.8/dist-packages/statsmodels/tsa/base/tsa_model.py:524: ValueWarning: No frequency information was provided, so inferred frequency D will be used.\n",
            "  warnings.warn('No frequency information was'\n"
          ]
        },
        {
          "output_type": "display_data",
          "data": {
            "text/plain": [
              "<Figure size 432x288 with 1 Axes>"
            ],
            "image/png": "[encoded data removed]"
          },
          "metadata": {
            "needs_background": "light"
          }
        }
      ]
    },
    {
      "cell_type": "code",
      "source": [
        "from statsmodels.tsa.arima_model import ARIMA\n",
        "model = ARIMA(ts_log, order=(2,1,0))\n",
        "results_ARIMA = model.fit(disp=-1)\n",
        "plot.plot(ts_log_diff)\n",
        "plot.plot(results_ARIMA.fittedvalues, color='red')\n",
        "plot.title('RSS: %.7f'% sum((results_ARIMA.fittedvalues-ts_log_diff)**2))\n",
        "plot.show()"
      ],
      "metadata": {
        "colab": {
          "base_uri": "https://localhost:8080/",
          "height": 350
        },
        "id": "8_RqpFZTEH9o",
        "outputId": "0e47dd6f-75e0-424f-95ca-38c5dd38f2f1"
      },
      "execution_count": null,
      "outputs": [
        {
          "output_type": "stream",
          "name": "stderr",
          "text": [
            "/usr/local/lib/python3.8/dist-packages/statsmodels/tsa/base/tsa_model.py:524: ValueWarning: No frequency information was provided, so inferred frequency D will be used.\n",
            "  warnings.warn('No frequency information was'\n",
            "/usr/local/lib/python3.8/dist-packages/statsmodels/tsa/base/tsa_model.py:524: ValueWarning: No frequency information was provided, so inferred frequency D will be used.\n",
            "  warnings.warn('No frequency information was'\n"
          ]
        },
        {
          "output_type": "display_data",
          "data": {
            "text/plain": [
              "<Figure size 432x288 with 1 Axes>"
            ],
            "image/png": "[encoded data removed]"
          },
          "metadata": {
            "needs_background": "light"
          }
        }
      ]
    },
    {
      "cell_type": "code",
      "source": [
        "size = int(len(ts_log)-100)\n",
        "# Divide into train and test\n",
        "train_arima, test_arima = ts_log[0:size], ts_log[size:len(ts_log)]\n",
        "history = [x for x in train_arima]\n",
        "predictions = list()\n",
        "originals = list()\n",
        "error_list = list()\n",
        "\n",
        "print('Printing Predicted vs Expected Values...')\n",
        "print('\\n')\n",
        "# We go over each value in the test set and then apply ARIMA model and calculate the predicted value. We have the expected value in the test set therefore we calculate the error between predicted and expected value\n",
        "for t in range(len(test_arima)):\n",
        "    model = ARIMA(history, order=(2, 1, 0))\n",
        "    model_fit = model.fit(disp=-1)\n",
        "\n",
        "    output = model_fit.forecast()\n",
        "\n",
        "    pred_value = output[0]\n",
        "\n",
        "\n",
        "    original_value = test_arima[t]\n",
        "    history.append(original_value)\n",
        "\n",
        "    pred_value = dragon.exp(pred_value)\n",
        "\n",
        "\n",
        "    original_value = dragon.exp(original_value)\n",
        "\n",
        "    # Calculating the error\n",
        "    error = ((abs(pred_value - original_value)) / original_value) * 100\n",
        "    error_list.append(error)\n",
        "    print('predicted = %f,   expected = %f,   error = %f ' % (pred_value, original_value, error), '%')\n",
        "\n",
        "    predictions.append(float(pred_value))\n",
        "    originals.append(float(original_value))\n",
        "\n",
        "# After iterating over whole test set the overall mean error is calculated.\n",
        "print('\\n Mean Error in Predicting Test Case Articles : %f ' % (sum(error_list)/float(len(error_list))), '%')\n",
        "plot.figure(figsize=(8, 6))\n",
        "test_day = [t\n",
        "           for t in range(len(test_arima))]\n",
        "labels={'Orginal','Predicted'}\n",
        "plot.plot(test_day, predictions, color= 'green')\n",
        "plot.plot(test_day, originals, color = 'orange')\n",
        "plot.title('Expected Vs Predicted Views Forecasting')\n",
        "plot.xlabel('Day')\n",
        "plot.ylabel('Closing Price')\n",
        "plot.legend(labels)\n",
        "plot.show()"
      ],
      "metadata": {
        "colab": {
          "base_uri": "https://localhost:8080/",
          "height": 1000
        },
        "id": "_KssaiUNEXo8",
        "outputId": "7235c2f7-904a-4325-9105-7139c2e29740"
      },
      "execution_count": null,
      "outputs": [
        {
          "output_type": "stream",
          "name": "stdout",
          "text": [
            "Printing Predicted vs Expected Values...\n",
            "\n",
            "\n",
            "predicted = 19093.017461,   expected = 19268.093750,   error = 0.908633  %\n",
            "predicted = 19288.142808,   expected = 19550.757813,   error = 1.343247  %\n",
            "predicted = 19572.440769,   expected = 19334.416016,   error = 1.231094  %\n",
            "predicted = 19366.305259,   expected = 19139.535156,   error = 1.184826  %\n",
            "predicted = 19166.379408,   expected = 19053.740234,   error = 0.591166  %\n",
            "predicted = 19078.457831,   expected = 19172.468750,   error = 0.490343  %\n",
            "predicted = 19194.249599,   expected = 19208.189453,   error = 0.072572  %\n",
            "predicted = 19233.447819,   expected = 19567.007813,   error = 1.704706  %\n",
            "predicted = 19585.671957,   expected = 19345.572266,   error = 1.241109  %\n",
            "predicted = 19378.188882,   expected = 20095.857422,   error = 3.571226  %\n",
            "predicted = 20104.972876,   expected = 20770.441406,   error = 3.203921  %\n",
            "predicted = 20791.320058,   expected = 20285.835938,   error = 2.491808  %\n",
            "predicted = 20327.723892,   expected = 20595.351563,   error = 1.299457  %\n",
            "predicted = 20612.132874,   expected = 20818.476563,   error = 0.991157  %\n",
            "predicted = 20844.248240,   expected = 20635.603516,   error = 1.011091  %\n",
            "predicted = 20668.351670,   expected = 20495.773438,   error = 0.842019  %\n",
            "predicted = 20523.994930,   expected = 20485.273438,   error = 0.189021  %\n",
            "predicted = 20511.256727,   expected = 20159.503906,   error = 1.744849  %\n",
            "predicted = 20192.253095,   expected = 20209.988281,   error = 0.087755  %\n",
            "predicted = 20232.702065,   expected = 21147.230469,   error = 4.324578  %\n",
            "predicted = 21156.657017,   expected = 21282.691406,   error = 0.592192  %\n",
            "predicted = 21316.320502,   expected = 20926.486328,   error = 1.862874  %\n"
          ]
        },
        {
          "output_type": "stream",
          "name": "stderr",
          "text": [
            "/usr/local/lib/python3.8/dist-packages/statsmodels/base/model.py:566: ConvergenceWarning: Maximum Likelihood optimization failed to converge. Check mle_retvals\n",
            "  warnings.warn(\"Maximum Likelihood optimization failed to \"\n"
          ]
        },
        {
          "output_type": "stream",
          "name": "stdout",
          "text": [
            "predicted = 20962.244708,   expected = 20602.816406,   error = 1.744559  %\n",
            "predicted = 20633.434032,   expected = 18541.271484,   error = 11.283814  %\n",
            "predicted = 18600.357238,   expected = 15880.780273,   error = 17.124958  %\n",
            "predicted = 15922.869301,   expected = 17586.771484,   error = 9.461101  %\n",
            "predicted = 17556.162414,   expected = 17034.292969,   error = 3.063640  %\n",
            "predicted = 17080.025490,   expected = 16799.185547,   error = 1.671747  %\n",
            "predicted = 16820.636789,   expected = 16353.365234,   error = 2.857342  %\n",
            "predicted = 16380.377067,   expected = 16618.199219,   error = 1.431095  %\n",
            "predicted = 16630.139006,   expected = 16884.613281,   error = 1.507137  %\n",
            "predicted = 16902.438296,   expected = 16669.439453,   error = 1.397761  %\n",
            "predicted = 16696.299716,   expected = 16687.517578,   error = 0.052627  %\n",
            "predicted = 16706.243476,   expected = 16697.777344,   error = 0.050702  %\n",
            "predicted = 16718.414954,   expected = 16711.546875,   error = 0.041098  %\n",
            "predicted = 16732.071461,   expected = 16291.832031,   error = 2.702209  %\n",
            "predicted = 16320.102684,   expected = 15787.284180,   error = 3.374985  %\n",
            "predicted = 15813.134958,   expected = 16189.769531,   error = 2.326374  %\n",
            "predicted = 16197.904848,   expected = 16610.707031,   error = 2.485157  %\n",
            "predicted = 16625.975049,   expected = 16604.464844,   error = 0.129545  %\n",
            "predicted = 16628.179574,   expected = 16521.841797,   error = 0.643619  %\n",
            "predicted = 16543.780547,   expected = 16464.281250,   error = 0.482859  %\n",
            "predicted = 16485.091400,   expected = 16444.626953,   error = 0.246065  %\n",
            "predicted = 16464.841754,   expected = 16217.322266,   error = 1.526266  %\n",
            "predicted = 16241.449935,   expected = 16444.982422,   error = 1.237657  %\n",
            "predicted = 16459.106710,   expected = 17168.566406,   error = 4.132318  %\n",
            "predicted = 17177.322024,   expected = 16967.132813,   error = 1.238802  %\n",
            "predicted = 16997.206309,   expected = 17088.660156,   error = 0.535173  %\n",
            "predicted = 17106.088304,   expected = 16908.236328,   error = 1.170151  %\n",
            "predicted = 16933.529491,   expected = 17130.486328,   error = 1.149745  %\n",
            "predicted = 17146.106414,   expected = 16974.826172,   error = 1.009025  %\n",
            "predicted = 17000.467764,   expected = 17089.503906,   error = 0.520999  %\n",
            "predicted = 17107.338970,   expected = 16848.126953,   error = 1.538521  %\n",
            "predicted = 16874.450610,   expected = 17233.474609,   error = 2.083294  %\n",
            "predicted = 17245.465143,   expected = 17133.152344,   error = 0.655529  %\n",
            "predicted = 17159.176518,   expected = 17128.724609,   error = 0.177783  %\n",
            "predicted = 17149.325407,   expected = 17104.193359,   error = 0.263865  %\n",
            "predicted = 17125.834505,   expected = 17206.437500,   error = 0.468447  %\n",
            "predicted = 17225.585850,   expected = 17781.318359,   error = 3.125373  %\n",
            "predicted = 17792.850857,   expected = 17815.650391,   error = 0.127975  %\n",
            "predicted = 17841.494761,   expected = 17364.865234,   error = 2.744793  %\n",
            "predicted = 17395.424545,   expected = 16647.484375,   error = 4.492812  %\n",
            "predicted = 16678.544046,   expected = 16795.091797,   error = 0.693939  %\n",
            "predicted = 16807.927275,   expected = 16757.976563,   error = 0.298071  %\n",
            "predicted = 16780.332861,   expected = 16439.679688,   error = 2.072140  %\n",
            "predicted = 16465.650881,   expected = 16906.304688,   error = 2.606447  %\n",
            "predicted = 16915.617801,   expected = 16817.535156,   error = 0.583217  %\n",
            "predicted = 16843.229427,   expected = 16830.341797,   error = 0.076574  %\n",
            "predicted = 16850.160454,   expected = 16796.953125,   error = 0.316768  %\n",
            "predicted = 16818.324255,   expected = 16847.755859,   error = 0.174692  %\n",
            "predicted = 16867.226320,   expected = 16841.986328,   error = 0.149864  %\n",
            "predicted = 16863.139324,   expected = 16919.804688,   error = 0.334906  %\n",
            "predicted = 16939.035560,   expected = 16717.173828,   error = 1.327149  %\n",
            "predicted = 16742.138523,   expected = 16552.572266,   error = 1.145237  %\n",
            "predicted = 16574.599940,   expected = 16642.341797,   error = 0.407045  %\n",
            "predicted = 16659.778509,   expected = 16602.585938,   error = 0.344480  %\n",
            "predicted = 16624.267253,   expected = 16547.496094,   error = 0.463944  %\n",
            "predicted = 16568.482441,   expected = 16625.080078,   error = 0.340435  %\n",
            "predicted = 16643.471088,   expected = 16688.470703,   error = 0.269645  %\n",
            "predicted = 16708.161293,   expected = 16679.857422,   error = 0.169689  %\n",
            "predicted = 16700.838911,   expected = 16863.238281,   error = 0.963038  %\n",
            "predicted = 16880.215571,   expected = 16836.736328,   error = 0.258240  %\n",
            "predicted = 16859.139800,   expected = 16951.968750,   error = 0.547600  %\n",
            "predicted = 16970.291081,   expected = 16955.078125,   error = 0.089725  %\n",
            "predicted = 16976.596864,   expected = 17091.144531,   error = 0.670216  %\n",
            "predicted = 17109.466586,   expected = 17196.554688,   error = 0.506428  %\n",
            "predicted = 17216.578773,   expected = 17446.292969,   error = 1.316693  %\n",
            "predicted = 17463.638684,   expected = 17934.896484,   error = 2.627603  %\n",
            "predicted = 17949.334709,   expected = 18869.587891,   error = 4.876912  %\n",
            "predicted = 18878.670564,   expected = 19909.574219,   error = 5.177929  %\n",
            "predicted = 19922.669709,   expected = 20976.298828,   error = 5.022951  %\n",
            "predicted = 20992.755805,   expected = 20880.798828,   error = 0.536172  %\n",
            "predicted = 20918.170668,   expected = 21169.632813,   error = 1.187844  %\n",
            "predicted = 21190.941282,   expected = 21161.519531,   error = 0.139034  %\n",
            "predicted = 21191.371992,   expected = 20688.781250,   error = 2.429291  %\n",
            "predicted = 20723.725371,   expected = 21086.792969,   error = 1.721777  %\n",
            "predicted = 21102.838106,   expected = 22676.552734,   error = 6.939832  %\n",
            "predicted = 22680.202441,   expected = 22777.625000,   error = 0.427712  %\n",
            "predicted = 22818.569081,   expected = 22720.416016,   error = 0.432004  %\n",
            "predicted = 22752.050201,   expected = 22900.279297,   error = 0.647281  %\n",
            "\n",
            " Mean Error in Predicting Test Case Articles : 1.715491  %\n"
          ]
        },
        {
          "output_type": "display_data",
          "data": {
            "text/plain": [
              "<Figure size 576x432 with 1 Axes>"
            ],
            "image/png": "[encoded data removed]"
          },
          "metadata": {
            "needs_background": "light"
          }
        }
      ]
    }
  ]
}